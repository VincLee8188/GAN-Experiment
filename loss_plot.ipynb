{
 "cells": [
  {
   "cell_type": "code",
   "execution_count": 3,
   "id": "prompt-tomorrow",
   "metadata": {},
   "outputs": [],
   "source": [
    "import json\n",
    "import matplotlib.pyplot as plt\n",
    "from pathlib import Path as P\n",
    "import numpy as np\n",
    "from collections import OrderedDict"
   ]
  },
  {
   "cell_type": "code",
   "execution_count": 6,
   "id": "tribal-regular",
   "metadata": {},
   "outputs": [
    {
     "data": {
      "text/plain": [
       "(True, True, True, True, True)"
      ]
     },
     "execution_count": 6,
     "metadata": {},
     "output_type": "execute_result"
    }
   ],
   "source": [
    "# MNIST\n",
    "root_1 = 'check_mnist_ori_new'\n",
    "root_2 = 'check_mnist_dc_new'\n",
    "root_3 = 'check_mnist_dcsa'\n",
    "root_4 = 'check_mnist_dcun_1'\n",
    "root_5 = 'check_mnist_sa_want'\n",
    "data_root = 'logs.json'\n",
    "d_path_1 = P(root_1) / data_root\n",
    "d_path_2 = P(root_2) / data_root\n",
    "d_path_3 = P(root_3) / data_root\n",
    "d_path_4 = P(root_4) / data_root\n",
    "d_path_5 = P(root_5) / data_root\n",
    "d_path_1.is_file(), d_path_2.is_file(), d_path_3.is_file(), d_path_4.is_file(), d_path_5.is_file()"
   ]
  },
  {
   "cell_type": "code",
   "execution_count": 20,
   "id": "preceding-twelve",
   "metadata": {},
   "outputs": [
    {
     "data": {
      "text/plain": [
       "(True, True, True, True)"
      ]
     },
     "execution_count": 20,
     "metadata": {},
     "output_type": "execute_result"
    }
   ],
   "source": [
    "# CIFAR\n",
    "# root_1 = 'check_cifar_dcun'\n",
    "root_2 = 'check_cifar_dcun_1'\n",
    "root_3 = 'check_cifar_dcsa_test'\n",
    "root_4 = 'check_cifar_sa_want'\n",
    "data_root = 'logs.json'\n",
    "\n",
    "# d_path_1 = P(root_1) / data_root\n",
    "d_path_2 = P(root_2) / data_root\n",
    "d_path_3 = P(root_3) / data_root\n",
    "d_path_4 = P(root_4) / data_root\n",
    "d_path_1.is_file(), d_path_2.is_file(), d_path_3.is_file(), d_path_4.is_file()"
   ]
  },
  {
   "cell_type": "code",
   "execution_count": 21,
   "id": "hearing-collect",
   "metadata": {},
   "outputs": [],
   "source": [
    "def get_fid_list(data_path):\n",
    "    with data_path.open('r') as f:\n",
    "        stat_dict = json.load(f)\n",
    "    epoch_list = sorted(list(int(x) for x in stat_dict.keys()))\n",
    "    fid_list = list(float(stat_dict[str(x)]['fid_score']) for x in epoch_list)\n",
    "    return fid_list"
   ]
  },
  {
   "cell_type": "code",
   "execution_count": 22,
   "id": "marine-premium",
   "metadata": {},
   "outputs": [],
   "source": [
    "def get_metric(fid_list):\n",
    "    return np.argmin(fid_list), np.min(fid_list)"
   ]
  },
  {
   "cell_type": "code",
   "execution_count": 23,
   "id": "iraqi-framing",
   "metadata": {},
   "outputs": [
    {
     "data": {
      "text/plain": [
       "((31, 109.8), (27, 22.45), (62, 33.07), (51, 35.42), (10, 10.21))"
      ]
     },
     "execution_count": 23,
     "metadata": {},
     "output_type": "execute_result"
    }
   ],
   "source": [
    "get_metric(get_fid_list(d_path_1)), get_metric(get_fid_list(d_path_2)), get_metric(get_fid_list(d_path_3)), get_metric(get_fid_list(d_path_4)), get_metric(get_fid_list(d_path_5))"
   ]
  },
  {
   "cell_type": "code",
   "execution_count": 338,
   "id": "frank-album",
   "metadata": {},
   "outputs": [
    {
     "data": {
      "text/plain": [
       "True"
      ]
     },
     "execution_count": 338,
     "metadata": {},
     "output_type": "execute_result"
    }
   ],
   "source": [
    "checkpoint_root = 'check_cifar_sa_want'\n",
    "checkpoint_path = P(checkpoint_root)\n",
    "data_root = 'logs.json'\n",
    "data_path = checkpoint_path / data_root\n",
    "data_path.is_file()"
   ]
  },
  {
   "cell_type": "code",
   "execution_count": 339,
   "id": "overhead-phenomenon",
   "metadata": {},
   "outputs": [
    {
     "data": {
      "text/plain": [
       "22"
      ]
     },
     "execution_count": 339,
     "metadata": {},
     "output_type": "execute_result"
    }
   ],
   "source": [
    "with data_path.open('r') as f:\n",
    "    stat_dict = json.load(f)\n",
    "len(stat_dict)"
   ]
  },
  {
   "cell_type": "code",
   "execution_count": 340,
   "id": "environmental-divide",
   "metadata": {},
   "outputs": [
    {
     "data": {
      "text/plain": [
       "{'disc_loss': '0.3426', 'fid_score': '105.7', 'gen_loss': '2.439'}"
      ]
     },
     "execution_count": 340,
     "metadata": {},
     "output_type": "execute_result"
    }
   ],
   "source": [
    "stat_dict['5']"
   ]
  },
  {
   "cell_type": "code",
   "execution_count": 341,
   "id": "ranking-strike",
   "metadata": {},
   "outputs": [
    {
     "data": {
      "text/plain": [
       "(22, 22, 22)"
      ]
     },
     "execution_count": 341,
     "metadata": {},
     "output_type": "execute_result"
    }
   ],
   "source": [
    "epoch_list = sorted(list(int(x) for x in stat_dict.keys()))\n",
    "disc_list = list(float(stat_dict[str(x)]['disc_loss']) for x in epoch_list)\n",
    "gen_list = list(float(stat_dict[str(x)]['gen_loss']) for x in epoch_list)\n",
    "fid_list = list(float(stat_dict[str(x)]['fid_score']) for x in epoch_list)\n",
    "len(disc_list), len(gen_list), len(fid_list)"
   ]
  },
  {
   "cell_type": "code",
   "execution_count": 342,
   "id": "israeli-territory",
   "metadata": {},
   "outputs": [
    {
     "data": {
      "text/plain": [
       "[<matplotlib.lines.Line2D at 0x7fc967a7ed50>]"
      ]
     },
     "execution_count": 342,
     "metadata": {},
     "output_type": "execute_result"
    },
    {
     "data": {
      "image/png": "[encoded data removed]",
      "text/plain": [
       "<Figure size 1152x288 with 1 Axes>"
      ]
     },
     "metadata": {
      "needs_background": "light"
     },
     "output_type": "display_data"
    }
   ],
   "source": [
    "fig = plt.figure(figsize=(16, 4))\n",
    "\n",
    "plt.title('Disc Loss')\n",
    "plt.xlabel('Epoch')\n",
    "plt.ylabel('Score')\n",
    "plt.xlim(0, len(disc_list))\n",
    "plt.ylim(min(disc_list)/1.2, max(disc_list)*1.1)\n",
    "plt.plot(np.arange(len(disc_list)), disc_list, 'r')"
   ]
  },
  {
   "cell_type": "code",
   "execution_count": 343,
   "id": "close-friendly",
   "metadata": {},
   "outputs": [
    {
     "data": {
      "text/plain": [
       "[<matplotlib.lines.Line2D at 0x7fc967a19c90>]"
      ]
     },
     "execution_count": 343,
     "metadata": {},
     "output_type": "execute_result"
    },
    {
     "data": {
      "image/png": "[encoded data removed]",
      "text/plain": [
       "<Figure size 1152x288 with 1 Axes>"
      ]
     },
     "metadata": {
      "needs_background": "light"
     },
     "output_type": "display_data"
    }
   ],
   "source": [
    "fig = plt.figure(figsize=(16, 4))\n",
    "\n",
    "plt.title('Gen Loss')\n",
    "plt.xlabel('Epoch')\n",
    "plt.ylabel('Score')\n",
    "plt.xlim(0, len(gen_list))\n",
    "plt.ylim(min(gen_list)/1.2, max(gen_list)*1.1)\n",
    "plt.plot(np.arange(len(gen_list)), gen_list, 'r')"
   ]
  },
  {
   "cell_type": "code",
   "execution_count": 344,
   "id": "floating-congo",
   "metadata": {},
   "outputs": [
    {
     "data": {
      "text/plain": [
       "[<matplotlib.lines.Line2D at 0x7fc9688674d0>]"
      ]
     },
     "execution_count": 344,
     "metadata": {},
     "output_type": "execute_result"
    },
    {
     "data": {
      "image/png": "[encoded data removed]",
      "text/plain": [
       "<Figure size 1152x288 with 1 Axes>"
      ]
     },
     "metadata": {
      "needs_background": "light"
     },
     "output_type": "display_data"
    }
   ],
   "source": [
    "fig = plt.figure(figsize=(16, 4))\n",
    "\n",
    "plt.title('FID')\n",
    "plt.xlabel('Epoch')\n",
    "plt.ylabel('Score')\n",
    "plt.xlim(0, len(fid_list))\n",
    "plt.ylim(min(fid_list)/1.2, max(fid_list)*1.1)\n",
    "plt.plot(np.arange(len(fid_list)), fid_list, 'r')"
   ]
  },
  {
   "cell_type": "code",
   "execution_count": 345,
   "id": "instant-concentration",
   "metadata": {},
   "outputs": [
    {
     "data": {
      "text/plain": [
       "(18, 40.5)"
      ]
     },
     "execution_count": 345,
     "metadata": {},
     "output_type": "execute_result"
    }
   ],
   "source": [
    "np.argmin(fid_list), np.min(fid_list)"
   ]
  },
  {
   "cell_type": "code",
   "execution_count": 274,
   "id": "amended-screening",
   "metadata": {},
   "outputs": [
    {
     "data": {
      "text/plain": [
       "26.92"
      ]
     },
     "execution_count": 274,
     "metadata": {},
     "output_type": "execute_result"
    }
   ],
   "source": [
    "fid_list[100]  # dc"
   ]
  },
  {
   "cell_type": "code",
   "execution_count": 23,
   "id": "catholic-walnut",
   "metadata": {},
   "outputs": [
    {
     "data": {
      "text/plain": [
       "121.8"
      ]
     },
     "execution_count": 23,
     "metadata": {},
     "output_type": "execute_result"
    }
   ],
   "source": [
    "fid_list[100]  # dcwl"
   ]
  },
  {
   "cell_type": "code",
   "execution_count": 24,
   "id": "chronic-holocaust",
   "metadata": {},
   "outputs": [
    {
     "data": {
      "text/plain": [
       "121.8"
      ]
     },
     "execution_count": 24,
     "metadata": {},
     "output_type": "execute_result"
    }
   ],
   "source": [
    "fid_list[100]  # dcsn"
   ]
  },
  {
   "cell_type": "code",
   "execution_count": null,
   "id": "bulgarian-grill",
   "metadata": {},
   "outputs": [],
   "source": [
    "import torch"
   ]
  },
  {
   "cell_type": "code",
   "execution_count": null,
   "id": "developmental-stanford",
   "metadata": {},
   "outputs": [],
   "source": []
  }
 ],
 "metadata": {
  "kernelspec": {
   "display_name": "Python 3",
   "language": "python",
   "name": "python3"
  },
  "language_info": {
   "codemirror_mode": {
    "name": "ipython",
    "version": 3
   },
   "file_extension": ".py",
   "mimetype": "text/x-python",
   "name": "python",
   "nbconvert_exporter": "python",
   "pygments_lexer": "ipython3",
   "version": "3.7.9"
  }
 },
 "nbformat": 4,
 "nbformat_minor": 5
}
